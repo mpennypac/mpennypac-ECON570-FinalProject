{
 "cells": [
  {
   "cell_type": "markdown",
   "id": "de7c58a8",
   "metadata": {},
   "source": [
    "# Introduction\n",
    "\n",
    "### Background\n",
    "\n",
    "A bit more than a year ago (January 2021), the company GameStop along with a few other declining brands were at the center of a social media and stock market phenomenon. Multiple investment firms positioned themselves short these declining companies's stocks, meaning they expected them to fail, and rightfully so based on a long collection of data pointing towards this exact conclusion. Many independent retail investors took issue with these short positions, either because of long held sentiment for the brands or because of separate data they'd collected pointing towards a mistake in the short positions of the investment firms. Eventually these conflicting views came to a head, and the climax was primarily discussed on social media (as many things are today) and enacted on the mobile investment app Robinhood.\n",
    "\n",
    "The company Robinhood was founded in 2013, with the first available mobile app being released in 2015 on the iOS store. On the app users can view and trade stocks much like one can do on any other trading platform such as Fidelity or TD Ameritrade, but unlike other platforms users don't have to pay a commission fee to make their trades. As the name implies, the main ethos of Robinhood was to \"democratize finance.\"\n",
    "\n",
    "Returning to the GameStop event of 2021, these two conflicting views on the direction of the company resulted in hoards of retail investors buying GME (the stock ticker for GameStop), particularly through the Robinhood app, pushing the price from just under 50 dollars per share on January 20th up to a peak of over 350 dollars per share on January 27th. Investment firms that held a short position were forced to abandon it, losing hundreds of millions of dollars in the process. Shortly after the peak the price of GME fell back to about 75 dollars per share by February 5th, causing those same retail investors to lose their money, too. Today it hovers around 120 dollars per share (April 29th, 2022).\n",
    "\n",
    "Traditional news outlets were quick to point towards the mistake Robinhood's founders had made by \"democratizing finance.\" Rather than any particular party winning, it ended up producing an unpredictable and destructive event that lost many people a lot of money. The platonic ideal of democratization is attractive to many (as is easily seen by the funding Robinhood has received), but with the extreme volatility of the GameStop event, it is natural to ask: did the release of the mobile app for the trading platform Robinhood in 2015 result in a greater effect of social media sentiment on stock price volatility?\n",
    "\n",
    "### Brief Literature Review\n",
    "\n",
    "Most often this question, or ones similar to it, have been answered using data specifically from the GameStop event in 2021. This makes sense since it, as is clear from the Introduction, inspired many to question the positive effects of democratizing finance.\n",
    "\n",
    "*The Rise of Reddit: How Social Media Affects Retail Investors and Short-sellers’ Roles in Price Discovery* by Hu, Jones, Zhang, and Zhang (2021) attempts to answer the question of how much of an effect social media had in the fluctuations of GME price. Using activity of the online community r/WallStreetBets (a subsection of the website Reddit) as a proxy for social media sentiment for GME, they find the expected relationship between sentiment and price movement holds, i.e. positive sentiment is associated with positive movement in price. In their analysis they focus on a list of 50 stocks that Robinhood had restricted access to amongst the GameStop event's volatility, which they use as a proxy for what stocks retail investors are interested in. Another one of their findings shows that higher activity on r/WallStreetBets is associated with greater retail investing activity, using the list of 50 stocks to measure said activity. They include an analysis surrounding \"Reddit influencers,\" popular accounts that may draw more significant attention to their stock trading decisions, and have a subsequent effect on retail investing activity. Their general findings point towards social media activity (in particular activity of the community r/WallStreetBets) having large potential for affecting both stock price movement and volatility.\n",
    "\n",
    "*Zero-Commission Individual Investors, High Frequency Traders, and Stock Market Quality* by Eaton, Green, Roseman, and Wu (2021) are interested in answering the question of how informed retail investors are, and subsequently how much they contribute to greater market quality. Using measures of quoted spreads, effective spreads, realized spreads, and price impact to measure market quality and liquidity, they find that Robinhood outages (i.e. when the app goes down and users are unable to make trades) contribute to higher market quality. This indicates that retail investors using the app Robinhood are generally uninformed and contribute negatively to market quality.\n",
    "\n",
    "\n",
    "\n",
    "# Data Description and Collection\n",
    "\n",
    "To answer my question I was interested in gathering data on Robinhood's popularity, stock market sentiment, and stock market prices. As a proxy for Robinhood's popularity, I collected data from Twitter, and count the number of times someone includes \"Robinhood\" in their tweet for each day in the range of interest (due to the size of the files created by scraping Twitter, I limit the range to January 1st, 2020 to April 1st, 2022). To collect this data I make use of the package \"snscrape,\" which uses Twitter's API and returns the tweets in the chosen timeframe that Twitter's search function would return:"
   ]
  },
  {
   "cell_type": "code",
   "execution_count": 20,
   "id": "f4be4a51",
   "metadata": {},
   "outputs": [],
   "source": [
    "## Gathering data on popularity of Robinhood using package snscrape\n",
    "\n",
    "import os\n",
    "import pandas as pd\n",
    "\n",
    "os.system(\"snscrape --jsonl --since 2020-01-01 twitter-search 'Robinhood until:2020-06-30' > popularity2020_1.json\")\n",
    "popularity = pd.read_json(\"popularity2020_1.json\",lines=True)\n",
    "popularity.to_csv('popularity2020_1.csv')\n",
    "\n",
    "os.system(\"snscrape --jsonl --since 2020-07-01 twitter-search 'Robinhood until:2020-12-31' > popularity2020_2.json\")\n",
    "popularity = pd.read_json(\"popularity2020_2.json\",lines=True)\n",
    "popularity.to_csv('popularity2020_2.csv')\n",
    "\n",
    "os.system(\"snscrape --jsonl --since 2021-01-01 twitter-search 'Robinhood until:2021-06-30' > popularity2021_1.json\")\n",
    "popularity = pd.read_json(\"popularity2021_1.json\",lines=True)\n",
    "popularity.to_csv('popularity2021_1.csv')\n",
    "\n",
    "os.system(\"snscrape --jsonl --since 2021-07-01 twitter-search 'Robinhood until:2021-12-31' > popularity2021_2.json\")\n",
    "popularity = pd.read_json(\"popularity2021_2.json\",lines=True)\n",
    "popularity.to_csv('popularity2021_2.csv')\n",
    "\n",
    "os.system(\"snscrape --jsonl --since 2022-01-01 twitter-search 'Robinhood until:2022-04-01' > popularity2022.json\")\n",
    "popularity = pd.read_json(\"popularity2022.json\",lines=True)\n",
    "popularity.to_csv('popularity2022.csv')"
   ]
  },
  {
   "cell_type": "code",
   "execution_count": 32,
   "id": "4481cb2c",
   "metadata": {},
   "outputs": [],
   "source": [
    "## reading in the files and combining them into a single dataframe\n",
    "\n",
    "popularity2020_1 = pd.read_csv('popularity2020_1.csv',encoding='ISO-8859-1',low_memory=False,lineterminator='\\n')\n",
    "popularity2020_2 = pd.read_csv('popularity2020_2.csv',encoding='ISO-8859-1',low_memory=False,lineterminator='\\n')\n",
    "popularity2021_1 = pd.read_csv('popularity2021_1.csv',encoding='ISO-8859-1',low_memory=False,lineterminator='\\n')\n",
    "popularity2021_2 = pd.read_csv('popularity2021_2.csv',encoding='ISO-8859-1',low_memory=False,lineterminator='\\n')\n",
    "popularity2022 = pd.read_csv('popularity2022.csv',encoding='ISO-8859-1',low_memory=False,lineterminator='\\n')\n",
    "\n",
    "\n",
    "popularity = pd.concat([popularity2020_1,popularity2020_2,popularity2021_1,popularity2021_2,popularity2022])\n",
    "popularity = popularity.reset_index()"
   ]
  },
  {
   "cell_type": "code",
   "execution_count": 22,
   "id": "329341eb",
   "metadata": {},
   "outputs": [
    {
     "name": "stdout",
     "output_type": "stream",
     "text": [
      "                             date\n",
      "0       2021-06-29 23:59:54+00:00\n",
      "1       2021-06-29 23:58:52+00:00\n",
      "2       2021-06-29 23:58:18+00:00\n",
      "3       2021-06-29 23:57:55+00:00\n",
      "4       2021-06-29 23:57:09+00:00\n",
      "...                           ...\n",
      "157170  2022-01-01 00:09:43+00:00\n",
      "157171  2022-01-01 00:07:11+00:00\n",
      "157172  2022-01-01 00:04:06+00:00\n",
      "157173  2022-01-01 00:00:44+00:00\n",
      "157174  2022-01-01 00:00:30+00:00\n",
      "\n",
      "[1729154 rows x 1 columns]\n"
     ]
    }
   ],
   "source": [
    "## since all we want to know is the number of tweets per day in the period we scraped the data from, I take a look\n",
    "## at the format of the \"date\" column\n",
    "print(popularity[['date']])"
   ]
  },
  {
   "cell_type": "code",
   "execution_count": 35,
   "id": "e15fffb2",
   "metadata": {},
   "outputs": [
    {
     "name": "stdout",
     "output_type": "stream",
     "text": [
      "               date\n",
      "0        2021-06-29\n",
      "1        2021-06-29\n",
      "2        2021-06-29\n",
      "3        2021-06-29\n",
      "4        2021-06-29\n",
      "...             ...\n",
      "1729149  2022-01-01\n",
      "1729150  2022-01-01\n",
      "1729151  2022-01-01\n",
      "1729152  2022-01-01\n",
      "1729153  2022-01-01\n",
      "\n",
      "[1729154 rows x 1 columns]\n"
     ]
    }
   ],
   "source": [
    "## isolate the dates from the timestamp so we can count per day activity\n",
    "dates = popularity.applymap(lambda x: str(x)[:10])\n",
    "dates = dates[['date']]"
   ]
  },
  {
   "cell_type": "code",
   "execution_count": 62,
   "id": "832f26c4",
   "metadata": {},
   "outputs": [
    {
     "name": "stdout",
     "output_type": "stream",
     "text": [
      "           Date  Counts\n",
      "0    2021-04-16   81563\n",
      "1    2021-05-09   39428\n",
      "2    2021-05-04   34186\n",
      "3    2021-02-18   31083\n",
      "4    2021-10-27   18755\n",
      "..          ...     ...\n",
      "492  2020-11-08     384\n",
      "493  2020-11-01     383\n",
      "494  2020-11-07     381\n",
      "495  2020-11-15     341\n",
      "496  2021-10-08     242\n",
      "\n",
      "[497 rows x 2 columns]\n"
     ]
    }
   ],
   "source": [
    "## assign date counts to a new dataframe\n",
    "date_counts = dates['date'].value_counts().rename_axis('Date').reset_index(name='Counts')\n",
    "date_counts['Date'] = date_counts.Date.astype(str)\n",
    "print(date_counts)"
   ]
  },
  {
   "cell_type": "markdown",
   "id": "088c58b7",
   "metadata": {},
   "source": [
    "Now that I have the data for Robinhood popularity, I need data for stock market sentiment and stock market prices. For overall stock market prices I use data on the exchange-traded fund SPY, and for stock market sentiment I use data on the Chicago Board Options Exchange's CBOE Volatility Index, which is a popular measure of expected stock market volatility based on the S&P 500's index options. To collect them I use the package yfinance, which scrapes data from Yahoo! Finance:"
   ]
  },
  {
   "cell_type": "code",
   "execution_count": 135,
   "id": "83ff16da",
   "metadata": {},
   "outputs": [],
   "source": [
    "## get stock market-related data\n",
    "import yfinance as yf\n",
    "\n",
    "spy_data = yf.Ticker('SPY').history(start='2020-01-01',end='2022-04-01')[['High','Low']]\n",
    "## for the price data, I take the midpoint between the High and Low prices for each day\n",
    "spy_data['SPY-Price'] = (spy_data.High.astype(float)+spy_data.Low.astype(float))/2\n",
    "spy_data = spy_data.drop(columns=['High','Low'],axis=1)\n",
    "vix_data = yf.Ticker('^VIX').history(start='2020-01-01',end='2022-04-01')[['High','Low']]\n",
    "## and for the VIX data, I do the same, taking the midpoint between the High and Low values for each day\n",
    "vix_data['VIX-Value'] = (vix_data.High.astype(float)+vix_data.Low.astype(float))/2\n",
    "vix_data = vix_data.drop(columns=['High','Low'],axis=1)"
   ]
  },
  {
   "cell_type": "code",
   "execution_count": 136,
   "id": "49f4207c",
   "metadata": {},
   "outputs": [
    {
     "name": "stdout",
     "output_type": "stream",
     "text": [
      "           Date   SPY-Price  VIX-Value  Counts\n",
      "0    2020-01-02  312.624243     13.070     NaN\n",
      "1    2020-01-03  311.330120     14.665     NaN\n",
      "2    2020-01-06  311.016217     14.965     NaN\n",
      "3    2020-01-07  311.832366     13.925     NaN\n",
      "4    2020-01-08  313.121567     14.035     NaN\n",
      "..          ...         ...        ...     ...\n",
      "562  2022-03-25  450.705002     21.830   982.0\n",
      "563  2022-03-28  452.985001     21.435  1619.0\n",
      "564  2022-03-29  459.625000     19.200  2995.0\n",
      "565  2022-03-30  458.835007     19.615  2806.0\n",
      "566  2022-03-31  454.960007     20.510  1560.0\n",
      "\n",
      "[567 rows x 4 columns]\n"
     ]
    }
   ],
   "source": [
    "## combine all the data into one dataframe\n",
    "stock_data = spy_data.join(vix_data, on='Date').rename_axis('Date').reset_index()\n",
    "stock_data['Date'] = stock_data.Date.astype(str)\n",
    "\n",
    "popularity_analysis = stock_data.merge(date_counts, how='left', on='Date')\n",
    "\n",
    "print(popularity_analysis)"
   ]
  },
  {
   "cell_type": "markdown",
   "id": "937a0e0d",
   "metadata": {},
   "source": [
    "For a second, later analysis I want to have data on the stock market along with indicators for the existence of Robinhood on various platforms, as well as the existence of certain upgraded services they provide. Specifically I have indicators for the availability of the app on iOS and Android, and I have indicators for the existence of Robinhood Instant (which allowed instant purchasing of stocks rather than their original 3-day wait time for the user's bank deposit to go through) as well as Robinhood Gold (which allowed for a greater trading period among other premium services). For a longer timeline I consider the same stock market data from January 1st, 2000, to April 1st, 2022:"
   ]
  },
  {
   "cell_type": "code",
   "execution_count": 150,
   "id": "711c10ba",
   "metadata": {},
   "outputs": [],
   "source": [
    "## gather stock market data as before, but with a longer timeframe\n",
    "spy_data = yf.Ticker('SPY').history(start='2000-01-01',end='2022-04-01')[['High','Low']]\n",
    "spy_data['SPY-Price'] = (spy_data.High.astype(float)+spy_data.Low.astype(float))/2\n",
    "spy_data = spy_data.drop(columns=['High','Low'],axis=1)\n",
    "vix_data = yf.Ticker('^VIX').history(start='2000-01-01',end='2022-04-01')[['High','Low']]\n",
    "vix_data['VIX-Value'] = (vix_data.High.astype(float)+vix_data.Low.astype(float))/2\n",
    "vix_data = vix_data.drop(columns=['High','Low'],axis=1)"
   ]
  },
  {
   "cell_type": "code",
   "execution_count": 151,
   "id": "dd0e1510",
   "metadata": {},
   "outputs": [],
   "source": [
    "diff_analysis = spy_data.join(vix_data, on='Date').rename_axis('Date').reset_index()"
   ]
  },
  {
   "cell_type": "code",
   "execution_count": 153,
   "id": "debdee82",
   "metadata": {},
   "outputs": [
    {
     "name": "stdout",
     "output_type": "stream",
     "text": [
      "           Date   SPY-Price  VIX-Value  iOS  Android  Robinhood-Instant  \\\n",
      "0    2000-01-03   96.970018     25.065  0.0      0.0                0.0   \n",
      "1    2000-01-04   94.174413     25.990  0.0      0.0                0.0   \n",
      "2    2000-01-05   92.540569     27.425  0.0      0.0                0.0   \n",
      "3    2000-01-06   92.696187     25.705  0.0      0.0                0.0   \n",
      "4    2000-01-07   94.874602     23.445  0.0      0.0                0.0   \n",
      "...         ...         ...        ...  ...      ...                ...   \n",
      "5593 2022-03-25  450.705002     21.830  1.0      1.0                1.0   \n",
      "5594 2022-03-28  452.985001     21.435  1.0      1.0                1.0   \n",
      "5595 2022-03-29  459.625000     19.200  1.0      1.0                1.0   \n",
      "5596 2022-03-30  458.835007     19.615  1.0      1.0                1.0   \n",
      "5597 2022-03-31  454.960007     20.510  1.0      1.0                1.0   \n",
      "\n",
      "      Robinhood-Gold  \n",
      "0                0.0  \n",
      "1                0.0  \n",
      "2                0.0  \n",
      "3                0.0  \n",
      "4                0.0  \n",
      "...              ...  \n",
      "5593             1.0  \n",
      "5594             1.0  \n",
      "5595             1.0  \n",
      "5596             1.0  \n",
      "5597             1.0  \n",
      "\n",
      "[5598 rows x 7 columns]\n"
     ]
    }
   ],
   "source": [
    "## add in indicators for each category of interest\n",
    "iOS_index = diff_analysis.index[diff_analysis['Date']=='2014-12-11'][0]\n",
    "diff_analysis.loc[iOS_index:, 'iOS'] = 1\n",
    "diff_analysis['iOS'] = diff_analysis['iOS'].fillna(0)\n",
    "\n",
    "android_index = diff_analysis.index[diff_analysis['Date']=='2015-08-13'][0]\n",
    "diff_analysis.loc[android_index:, 'Android'] = 1\n",
    "diff_analysis['Android'] = diff_analysis['Android'].fillna(0)\n",
    "\n",
    "instant_index = diff_analysis.index[diff_analysis['Date']=='2016-02-23'][0]\n",
    "diff_analysis.loc[instant_index:, 'Robinhood-Instant'] = 1\n",
    "diff_analysis['Robinhood-Instant'] = diff_analysis['Robinhood-Instant'].fillna(0)\n",
    "\n",
    "gold_index = diff_analysis.index[diff_analysis['Date']=='2016-09-29'][0]\n",
    "diff_analysis.loc[gold_index:, 'Robinhood-Gold'] = 1\n",
    "diff_analysis['Robinhood-Gold'] = diff_analysis['Robinhood-Gold'].fillna(0)\n",
    "\n",
    "print(diff_analysis)"
   ]
  },
  {
   "cell_type": "markdown",
   "id": "1e8acb7d",
   "metadata": {},
   "source": [
    "# Data Analysis\n",
    "\n",
    "Now that the data has been collected, we can put it into some models. For the first dataset, we're interested in the effect that Robinhood's popularity has on the price of the SPY exchange-traded fund, while controlling for stock market sentiment (in the form of VIX value). To find this we run the data through a basic OLS regression, with SPY Price as the dependent variable, and Robinhood's Twitter mentions and the VIX values as the independent variables:"
   ]
  },
  {
   "cell_type": "code",
   "execution_count": 148,
   "id": "8c18558c",
   "metadata": {},
   "outputs": [
    {
     "name": "stdout",
     "output_type": "stream",
     "text": [
      "                            OLS Regression Results                            \n",
      "==============================================================================\n",
      "Dep. Variable:              SPY-Price   R-squared:                       0.219\n",
      "Model:                            OLS   Adj. R-squared:                  0.215\n",
      "Method:                 Least Squares   F-statistic:                     47.88\n",
      "Date:                Tue, 03 May 2022   Prob (F-statistic):           4.71e-19\n",
      "Time:                        15:51:51   Log-Likelihood:                -1801.1\n",
      "No. Observations:                 344   AIC:                             3608.\n",
      "Df Residuals:                     341   BIC:                             3620.\n",
      "Df Model:                           2                                         \n",
      "Covariance Type:            nonrobust                                         \n",
      "==============================================================================\n",
      "                 coef    std err          t      P>|t|      [0.025      0.975]\n",
      "------------------------------------------------------------------------------\n",
      "const        500.0327     13.013     38.425      0.000     474.437     525.629\n",
      "VIX-Value     -4.6576      0.524     -8.893      0.000      -5.688      -3.627\n",
      "Counts         0.0004      0.000      0.947      0.344      -0.000       0.001\n",
      "==============================================================================\n",
      "Omnibus:                      135.331   Durbin-Watson:                   0.018\n",
      "Prob(Omnibus):                  0.000   Jarque-Bera (JB):               23.774\n",
      "Skew:                           0.306   Prob(JB):                     6.88e-06\n",
      "Kurtosis:                       1.867   Cond. No.                     3.71e+04\n",
      "==============================================================================\n",
      "\n",
      "Notes:\n",
      "[1] Standard Errors assume that the covariance matrix of the errors is correctly specified.\n",
      "[2] The condition number is large, 3.71e+04. This might indicate that there are\n",
      "strong multicollinearity or other numerical problems.\n"
     ]
    }
   ],
   "source": [
    "import statsmodels.api as sm\n",
    "\n",
    "Y = popularity_analysis[['SPY-Price']]\n",
    "X = popularity_analysis[['VIX-Value','Counts']]\n",
    "X = sm.add_constant(X)\n",
    "\n",
    "model = sm.OLS(Y, X, missing='drop')\n",
    "results = model.fit()\n",
    "print(results.summary())"
   ]
  },
  {
   "cell_type": "markdown",
   "id": "32b6883a",
   "metadata": {},
   "source": [
    "We find practically no effect of Robinhood Twitter mentions on the price of SPY, compared to a very significant effect of VIX value on SPY price. We move on to the second dataset, where we are interested in the difference in stock market sentiment's effect on stock market prices based on the indicators collected earlier:"
   ]
  },
  {
   "cell_type": "code",
   "execution_count": 162,
   "id": "64a9581c",
   "metadata": {},
   "outputs": [
    {
     "name": "stdout",
     "output_type": "stream",
     "text": [
      "P-value for test of difference in VIX coefficient by iOS indicator: 0.07588112992746332\n",
      "P-value for test of difference in VIX coefficient by Android indicator: 0.09567797675427814\n",
      "P-value for test of difference in VIX coefficient by Robinhood Instant indicator: 0.0893933600926915\n",
      "P-value for test of difference in VIX coefficient by Robinhood Gold indicator: 0.11861942040294471\n"
     ]
    }
   ],
   "source": [
    "from scipy.stats import t\n",
    "\n",
    "Y = diff_analysis[['SPY-Price']]\n",
    "X = diff_analysis[['VIX-Value']]\n",
    "X = sm.add_constant(X)\n",
    "\n",
    "model = sm.OLS(Y, X)\n",
    "restricted_results = model.fit()\n",
    "restricted_vix_coefficient = restricted_results.params[1]\n",
    "restricted_vix_se = restricted_results.bse[1]\n",
    "df = baseline_results.df_model\n",
    "\n",
    "X = diff_analysis[['VIX-Value','iOS']]\n",
    "X = sm.add_constant(X)\n",
    "\n",
    "model = sm.OLS(Y, X)\n",
    "unrestricted_results = model.fit()\n",
    "unrestricted_vix_coefficient = unrestricted_results.params[1]\n",
    "unrestricted_vix_se = unrestricted_results.bse[1]\n",
    "\n",
    "print('P-value for test of difference in VIX coefficient by iOS indicator:', \n",
    "      2*(1-t.cdf((unrestricted_vix_coefficient - restricted_vix_coefficient)/(restricted_vix_se**2 + \n",
    "                                                                              unrestricted_vix_se**2)**(1/2),df)))\n",
    "\n",
    "X = diff_analysis[['VIX-Value','Android']]\n",
    "X = sm.add_constant(X)\n",
    "\n",
    "model = sm.OLS(Y, X)\n",
    "unrestricted_results = model.fit()\n",
    "unrestricted_vix_coefficient = unrestricted_results.params[1]\n",
    "unrestricted_vix_se = unrestricted_results.bse[1]\n",
    "\n",
    "print('P-value for test of difference in VIX coefficient by Android indicator:', \n",
    "      2*(1-t.cdf((unrestricted_vix_coefficient - restricted_vix_coefficient)/(restricted_vix_se**2 + \n",
    "                                                                              unrestricted_vix_se**2)**(1/2),df)))\n",
    "\n",
    "X = diff_analysis[['VIX-Value','Robinhood-Instant']]\n",
    "X = sm.add_constant(X)\n",
    "\n",
    "model = sm.OLS(Y, X)\n",
    "unrestricted_results = model.fit()\n",
    "unrestricted_vix_coefficient = unrestricted_results.params[1]\n",
    "unrestricted_vix_se = unrestricted_results.bse[1]\n",
    "\n",
    "print('P-value for test of difference in VIX coefficient by Robinhood Instant indicator:', \n",
    "      2*(1-t.cdf((unrestricted_vix_coefficient - restricted_vix_coefficient)/(restricted_vix_se**2 + \n",
    "                                                                              unrestricted_vix_se**2)**(1/2),df)))\n",
    "\n",
    "X = diff_analysis[['VIX-Value','Robinhood-Gold']]\n",
    "X = sm.add_constant(X)\n",
    "\n",
    "model = sm.OLS(Y, X)\n",
    "unrestricted_results = model.fit()\n",
    "unrestricted_vix_coefficient = unrestricted_results.params[1]\n",
    "unrestricted_vix_se = unrestricted_results.bse[1]\n",
    "\n",
    "print('P-value for test of difference in VIX coefficient by Robinhood Gold indicator:', \n",
    "      2*(1-t.cdf((unrestricted_vix_coefficient - restricted_vix_coefficient)/(restricted_vix_se**2 + \n",
    "                                                                              unrestricted_vix_se**2)**(1/2),df)))"
   ]
  },
  {
   "cell_type": "markdown",
   "id": "be966061",
   "metadata": {},
   "source": [
    "We find that the difference in effect of stock market sentiment on stock market prices is significant before and after the iOS app release, before and after the Android app release, and before and after the release of Robinhood Instant, all at the 10% level. However, at the same level we find an insignificant difference in stock market sentiment's effect on stock market prices before and after the release of Robinhood Gold, but only by a small amount.\n",
    "\n",
    "# Discussion\n",
    "\n",
    "### First Dataset: Results and Limitations\n",
    "\n",
    "The model run on the first dataset produced results counter to my original hypothesis, showing relatively little effect of Robinhood popularity on the price of SPY after controlling for stock market sentiment with the proxy variable of VIX value. There are a few reasons this could be the case, and they mainly stem from the possibility of imperfect proxy variables.\n",
    "\n",
    "Although Twitter mentions seem like a reasonable proxy for popularity as it has lately been referred to as the modern \"town square,\" it doesn't take into account positive or negative publicity, and contrary to the old notion of any publicity being good publicity, it's unlikely that negative publicity has no negative effect on Robinhood's userbase. If instead of simply counting the number of Twitter mentions per day I was able to somehow measure sentiment on the website relating to Robinhood, it's possible this would be a better proxy for popularity. More to the point, though, I initially wanted to gather data on either the number of mobile app downloads or the number of users for the platform, but this data proved to be either too difficult or too expensive to access. I believe, though, that this would be the ideal proxy for Robinhood's popularity.\n",
    "\n",
    "I was also quite limited in my ability to gather data over a longer timeframe for this particular dataset. I would have preferred to collect data from before the release of Robinhood's mobile app until the present, but storage space and time would not allow this.\n",
    "\n",
    "As far as measuring stock market sentiment, VIX value, as well as most other measures, can be assumed to have some flaw, since it is an extremely difficult quality to measure. For our purposes, though, VIX fit the requirements. Originally I was interested in gathering data on stock market volatility as a backup for data on sentiment, and since VIX measures *expected* volatility, it appeared to do both. There exist many other measures of stock market sentiment, but like the Robinhood user count and number of downloads, this typically required some form of payment, which I tried to avoid.\n",
    "\n",
    "\n",
    "### Second Dataset: Results and Limitations\n",
    "\n",
    "The tests run on the second dataset produced mostly expected outcomes. It would make the most sense that the most significant difference amongst the four indicators was with the release of the iOS app, since that is truly when Robinhood became more mainstream, with each subsequent event having less effect on the increase in users than the simple passing of time.\n",
    "\n",
    "A potential issue with these tests is that we have more data on the time before any of these events than we do after, and so by the final event (the release of Robinhood Gold) we are using much less information to estimate the difference between VIX coefficients than after the first event (the release of the app on iOS). This aspect may explain why the p-value simply grows by a small amount with each subsequent test. However, even if we had more data, say, until 2050, this same issue could still arise due to the events simply occurring after one another over time. We also do not include any covariates in the regressions, which could lead to biased estimates of the coefficients on the indicators or VIX. However, this may not have been an issue due to testing the *difference* between the coefficients instead of any tests relying on the magnitude of the coefficents.\n",
    "\n",
    "# Conclusions\n",
    "\n",
    "These results provide mixed conclusions. On the one hand, using Twitter data to measure the Robinhood's popularity seems to show that it has little to no significant effect on stock market prices, after controlling for sentiment. However, it appears that as Robinhood grew in popularity with each new feature released, we see a difference in the effect that sentiment actually has on stock market prices. One would expect then that a growth in popularity would have a significant effect on stock market prices, but our first analysis says otherwise. The ability to pull significantly more data from Twitter, particularly spanning the timeframe we focused on for the second dataset, as well as inclusion of a broader range of covariates or possible confounding variables would most likely prove to be of great interest in deducing the cause of this discrepancy."
   ]
  }
 ],
 "metadata": {
  "kernelspec": {
   "display_name": "Python 3 (ipykernel)",
   "language": "python",
   "name": "python3"
  },
  "language_info": {
   "codemirror_mode": {
    "name": "ipython",
    "version": 3
   },
   "file_extension": ".py",
   "mimetype": "text/x-python",
   "name": "python",
   "nbconvert_exporter": "python",
   "pygments_lexer": "ipython3",
   "version": "3.8.3"
  }
 },
 "nbformat": 4,
 "nbformat_minor": 5
}
